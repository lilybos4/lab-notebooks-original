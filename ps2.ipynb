{
  "cells": [
    {
      "cell_type": "markdown",
      "metadata": {
        "id": "view-in-github",
        "colab_type": "text"
      },
      "source": [
        "<a href=\"https://colab.research.google.com/github/lilybos4/lab-notebooks-original/blob/main/ps2.ipynb\" target=\"_parent\"><img src=\"https://colab.research.google.com/assets/colab-badge.svg\" alt=\"Open In Colab\"/></a>"
      ]
    },
    {
      "cell_type": "markdown",
      "metadata": {
        "id": "U4L0nu8HfZx2"
      },
      "source": [
        "# Problem Set 2\n",
        "#### CMSI 1010: Computer Programming and Lab"
      ]
    },
    {
      "cell_type": "markdown",
      "metadata": {
        "id": "UrHgrgoifZx6"
      },
      "source": [
        "## Important Dates\n",
        "\n",
        " - Released: 2023-01-31 at 12:00 am [PT]\n",
        " - Deadline: 2023-02-09 at 11:59 pm [PT]"
      ]
    },
    {
      "cell_type": "markdown",
      "metadata": {
        "id": "lGWJOUPYfZx7"
      },
      "source": [
        "# Question 1: Reading Notes\n",
        "\n",
        "All readings are from the [_Think Python_ textbook](http://greenteapress.com/thinkpython2/thinkpython2.pdf):\n",
        "* Chapter 3\n",
        "* Sections 5.1-5.3\n",
        "* Sections 6.1-6.4\n",
        "\n",
        "You should also review Sections 1.4-1.5 and 2.5.\n",
        "\n",
        "Once you have studied the reading notes, write a summary in the text cell below."
      ]
    },
    {
      "cell_type": "markdown",
      "metadata": {
        "id": "YZJ_2BvYfZx7"
      },
      "source": [
        "*   \"calling\" a function is when you have defined a function (statements resulting in a computation) and can use the defined name to implement that computation again\n",
        "*   the function int will return the value by cutting off the decimal point- it will not round the number\n",
        "*   to use a module function, you have to use dot notation- specify the name of the module, then dot, then the name of the function\n",
        "*   composition- left side of the variable always has to be the variable name \n",
        "*   can add a new function - def is for function definition to implement the new function statements- the header always need : and body needs to be indented (4 spaces)\n",
        "*   in flow of execution- statements run at one time in order from top to bottom, important to know function calls run their own computations then pick up where it left off in flor of execution\n",
        "*   arguments are assigned to variables called paramenters: example of function print twice, any word will run the function\n",
        "*   if a variable is created inside a function, it is local, meaning that it will only exist inside that function\n",
        "*   parameters are also local\n",
        "*   traceback function can be useful for de bugging- shows what line error occurred in and more info\n",
        "*   some people see programming and debugging as the same thing- process of gradually debugging a function until it runs correctly\n",
        "*   floor division operator divides two numbers and rounds down to an integer while modulus divides two numbers and returns the remainder\n",
        "*   = is an assignment operation, ex: x = 4, while == is a relational operator to show if both sides equal each other\n",
        "*   returns in a fruitful function mean to return the function it is calling, but with the new argument having been computed\n",
        "*   incremental development is good for larger problems- start with a small working code and build up from there so it is easy to debug\n",
        "*   need to remember to remove scalfholding, code that is helpful for building up to the final product, in the final code\n",
        "*   common to give boolean function names that sound like yes or no questions, ex: \"is_divisable\"\n",
        "\n",
        "\n",
        "\n",
        "\n",
        "\n",
        "\n",
        "\n",
        "\n"
      ]
    },
    {
      "cell_type": "markdown",
      "metadata": {
        "nbgrader": {
          "grade": false,
          "grade_id": "q1_prompt",
          "locked": true,
          "schema_version": 1,
          "solution": false
        },
        "id": "rA4Gog_jt_Eb"
      },
      "source": [
        "# Question 2\n",
        "\n",
        "In this question, you'll write some coding that performs string manipulation. This is pretty much your warm-up.\n",
        "\n",
        "Remember the first cell block is where you put your answer. There may already be some code there, in which case **don't remove it**; just add what is asked for.\n",
        "\n",
        "All the cells under the first one are autograder cells; don't edit those! But you can run them (using the Run button at the top) to test your own code! If they don't spit out any error messages, then your code works!"
      ]
    },
    {
      "cell_type": "markdown",
      "metadata": {
        "collapsed": true,
        "nbgrader": {
          "grade": false,
          "grade_id": "q1a_prompt",
          "locked": true,
          "points": 10,
          "schema_version": 1,
          "solution": false
        },
        "id": "kmMVb-QCt_Eb"
      },
      "source": [
        "### Part A\n",
        "\n",
        "What's your favorite *positive* number? Create a variable named `favorite_number` and assign it to be your favorite *positive* number."
      ]
    },
    {
      "cell_type": "code",
      "execution_count": 1,
      "metadata": {
        "collapsed": true,
        "nbgrader": {
          "grade": false,
          "grade_id": "q1a",
          "locked": false,
          "schema_version": 1,
          "solution": true
        },
        "id": "wnJvNbNat_Eb"
      },
      "outputs": [],
      "source": [
        "# your code here\n",
        "favorite_number = 4"
      ]
    },
    {
      "cell_type": "code",
      "execution_count": 2,
      "metadata": {
        "collapsed": true,
        "nbgrader": {
          "grade": true,
          "grade_id": "q1a_test",
          "locked": true,
          "points": 6,
          "schema_version": 1,
          "solution": false
        },
        "id": "FwpjbyHKt_Ec",
        "colab": {
          "base_uri": "https://localhost:8080/"
        },
        "outputId": "0c0bfb48-338a-4beb-fc9d-9e17130703c7"
      },
      "outputs": [
        {
          "output_type": "stream",
          "name": "stdout",
          "text": [
            "My favorite number is: 4\n"
          ]
        }
      ],
      "source": [
        "print(\"My favorite number is: \" + str(favorite_number))\n",
        "assert favorite_number >= 0"
      ]
    },
    {
      "cell_type": "markdown",
      "metadata": {
        "nbgrader": {
          "grade": false,
          "grade_id": "q1b_prompt",
          "locked": true,
          "schema_version": 1,
          "solution": false
        },
        "id": "QDKna--Vt_Ec"
      },
      "source": [
        "### Part B\n",
        "\n",
        "Print out a famous quote! In the code below, create two variables:\n",
        " - one named `famous_person`,\n",
        " - the other named `their_quote`,\n",
        " \n",
        "and assign them to be the name of some famous person and a quote that they said, respectively. Remember: these are *strings*!"
      ]
    },
    {
      "cell_type": "code",
      "execution_count": 3,
      "metadata": {
        "collapsed": true,
        "nbgrader": {
          "grade": false,
          "grade_id": "q1b",
          "locked": false,
          "schema_version": 1,
          "solution": true
        },
        "id": "CL1oDxkJt_Ec"
      },
      "outputs": [],
      "source": [
        "# your code here\n",
        "famous_person = \"Gandhi\"\n",
        "their_quote = \"Happiness is when what you think, what you say, and what you do are in harmony.\""
      ]
    },
    {
      "cell_type": "code",
      "execution_count": 4,
      "metadata": {
        "collapsed": true,
        "nbgrader": {
          "grade": true,
          "grade_id": "q1b_test",
          "locked": true,
          "points": 6,
          "schema_version": 1,
          "solution": false
        },
        "id": "CRKIyPPIt_Ed",
        "colab": {
          "base_uri": "https://localhost:8080/"
        },
        "outputId": "3a19115a-ced6-4e70-e7c7-232051ef98ed"
      },
      "outputs": [
        {
          "output_type": "stream",
          "name": "stdout",
          "text": [
            "Gandhi, at age 4, said:\n",
            "\n",
            "\"Happiness is when what you think, what you say, and what you do are in harmony.\"\n"
          ]
        }
      ],
      "source": [
        "print(\"{}, at age {}, said:\\n\\n\\\"{}\\\"\".format(famous_person, favorite_number, their_quote))\n",
        "\n",
        "assert len(famous_person) > 0\n",
        "assert len(their_quote) > 0"
      ]
    },
    {
      "cell_type": "markdown",
      "metadata": {
        "nbgrader": {
          "grade": false,
          "grade_id": "q1c_prompt",
          "locked": true,
          "schema_version": 1,
          "solution": false
        },
        "id": "U9HXPLwft_Ed"
      },
      "source": [
        "### Part C\n",
        "\n",
        "You're working late on a homework assignment and have copied a few lines from a Wikipedia article. In your tired stupor, your copy/paste skills leave something to be desired. Rather than try to force your mouse hand to stop shaking, you figure it's easier to write a small Python program to strip out errant whitespace from your copy-pasting.\n",
        "\n",
        "**Leaving the code below as-is**, **add more code** that strips away whitespace in the variables `line1`, `line2`, and `line3`. Hint: recall the string method `strip`.\n",
        "\n",
        "In other words, reassign each of the three variables (keeping their names the same, and their respective content otherwise unaltered) so that the leading and trailing whitespace on both ends is removed."
      ]
    },
    {
      "cell_type": "code",
      "execution_count": 1,
      "metadata": {
        "collapsed": true,
        "nbgrader": {
          "grade": false,
          "grade_id": "q1c",
          "locked": false,
          "schema_version": 1,
          "solution": true
        },
        "id": "HCA1_Gj6t_Ed",
        "colab": {
          "base_uri": "https://localhost:8080/"
        },
        "outputId": "4b21ce2d-8a31-4052-b7cc-88406cc0729e"
      },
      "outputs": [
        {
          "output_type": "stream",
          "name": "stdout",
          "text": [
            "Python supports multiple programming paradigms, including object-oriented, imperative\n",
            "and functional programming or procedural styles. It features a dynamic type\n",
            "system and automatic memory management and has a large and comprehensive standard library.\n"
          ]
        }
      ],
      "source": [
        "line1 = 'Python supports multiple programming paradigms, including object-oriented, imperative\\n'\n",
        "line2 = '  and functional programming or procedural styles. It features a dynamic type\\n'\n",
        "line3 = ' system and automatic memory management and has a large and comprehensive standard library.\\n '\n",
        "\n",
        "### BEGIN SOLUTION\n",
        "line1 = line1.strip()\n",
        "line2 = line2.strip()\n",
        "line3 = line3.strip()\n",
        "print(line1)\n",
        "print(line2)\n",
        "print(line3)\n",
        "### END SOLUTION"
      ]
    },
    {
      "cell_type": "code",
      "execution_count": 2,
      "metadata": {
        "collapsed": true,
        "nbgrader": {
          "grade": true,
          "grade_id": "q1c_test",
          "locked": true,
          "points": 6,
          "schema_version": 1,
          "solution": false
        },
        "id": "88jkEdiYt_Ee"
      },
      "outputs": [],
      "source": [
        "assert line1[-1] != '\\n'\n",
        "assert line2[0] != line2[1] != ' '\n",
        "assert line2[-1] != '\\n'\n",
        "assert line3[0] != ' '\n",
        "assert line3[-1] != '\\n'"
      ]
    },
    {
      "cell_type": "markdown",
      "metadata": {
        "nbgrader": {
          "grade": false,
          "grade_id": "q1d_prompt",
          "locked": true,
          "schema_version": 1,
          "solution": false
        },
        "id": "y-95nGXwt_Ee"
      },
      "source": [
        "### Part D\n",
        "\n",
        "You discover that there are numbers in the text you'd like to be able to parse out for some math down the road. After stripping out the trailing whitespace, convert the numbers to their proper numerical form.\n",
        "\n",
        "Assign them to the variables `num1`, `num2`, and `num3` respectively."
      ]
    },
    {
      "cell_type": "code",
      "execution_count": 5,
      "metadata": {
        "collapsed": true,
        "nbgrader": {
          "grade": false,
          "grade_id": "q1d",
          "locked": false,
          "schema_version": 1,
          "solution": true
        },
        "id": "sIZT7vpSt_Ee",
        "colab": {
          "base_uri": "https://localhost:8080/",
          "height": 232
        },
        "outputId": "4ad25603-fa6d-498c-c198-eae6d72a8148"
      },
      "outputs": [
        {
          "output_type": "error",
          "ename": "ValueError",
          "evalue": "ignored",
          "traceback": [
            "\u001b[0;31m---------------------------------------------------------------------------\u001b[0m",
            "\u001b[0;31mValueError\u001b[0m                                Traceback (most recent call last)",
            "\u001b[0;32m<ipython-input-5-9543afbcb752>\u001b[0m in \u001b[0;36m<module>\u001b[0;34m\u001b[0m\n\u001b[1;32m      7\u001b[0m \u001b[0mline2\u001b[0m \u001b[0;34m=\u001b[0m \u001b[0mline2\u001b[0m\u001b[0;34m.\u001b[0m\u001b[0mstrip\u001b[0m\u001b[0;34m(\u001b[0m\u001b[0;34m)\u001b[0m\u001b[0;34m\u001b[0m\u001b[0;34m\u001b[0m\u001b[0m\n\u001b[1;32m      8\u001b[0m \u001b[0mline3\u001b[0m \u001b[0;34m=\u001b[0m \u001b[0mline3\u001b[0m\u001b[0;34m.\u001b[0m\u001b[0mstrip\u001b[0m\u001b[0;34m(\u001b[0m\u001b[0;34m)\u001b[0m\u001b[0;34m\u001b[0m\u001b[0;34m\u001b[0m\u001b[0m\n\u001b[0;32m----> 9\u001b[0;31m \u001b[0mnum1\u001b[0m \u001b[0;34m=\u001b[0m \u001b[0mint\u001b[0m\u001b[0;34m(\u001b[0m\u001b[0mline1\u001b[0m\u001b[0;34m,\u001b[0m \u001b[0mbase\u001b[0m\u001b[0;34m=\u001b[0m\u001b[0;36m10\u001b[0m\u001b[0;34m)\u001b[0m\u001b[0;34m\u001b[0m\u001b[0;34m\u001b[0m\u001b[0m\n\u001b[0m\u001b[1;32m     10\u001b[0m \u001b[0mnum2\u001b[0m \u001b[0;34m=\u001b[0m \u001b[0mint\u001b[0m\u001b[0;34m(\u001b[0m\u001b[0mline2\u001b[0m\u001b[0;34m)\u001b[0m\u001b[0;34m\u001b[0m\u001b[0;34m\u001b[0m\u001b[0m\n\u001b[1;32m     11\u001b[0m \u001b[0mnum3\u001b[0m \u001b[0;34m=\u001b[0m \u001b[0mint\u001b[0m\u001b[0;34m(\u001b[0m\u001b[0mline3\u001b[0m\u001b[0;34m)\u001b[0m\u001b[0;34m\u001b[0m\u001b[0;34m\u001b[0m\u001b[0m\n",
            "\u001b[0;31mValueError\u001b[0m: invalid literal for int() with base 10: '495.59863'"
          ]
        }
      ],
      "source": [
        "line1 = ' 495.59863 \\n'\n",
        "line2 = '\\t134  '\n",
        "line3 = '\\n\\t -5.4 \\t'\n",
        "\n",
        "### BEGIN SOLUTION\n",
        "line1 = line1.strip()\n",
        "line2 = line2.strip()\n",
        "line3 = line3.strip()\n",
        "num1 = int(line1, base=10)\n",
        "num2 = int(line2)\n",
        "num3 = int(line3)\n",
        "print(num1+num2+num3)\n",
        "\n",
        "### END SOLUTION"
      ]
    },
    {
      "cell_type": "code",
      "execution_count": null,
      "metadata": {
        "collapsed": true,
        "nbgrader": {
          "grade": true,
          "grade_id": "q1d_test",
          "locked": true,
          "points": 6,
          "schema_version": 1,
          "solution": false
        },
        "id": "4itWcsrmt_Ee"
      },
      "outputs": [],
      "source": [
        "assert num1 > 495 and num1 < 496\n",
        "assert num2 == 134\n",
        "assert num3 > -6 and num3 < -5"
      ]
    },
    {
      "cell_type": "markdown",
      "metadata": {
        "nbgrader": {
          "grade": false,
          "grade_id": "q1e_prompt",
          "locked": true,
          "schema_version": 1,
          "solution": false
        },
        "id": "DdOcwgjSt_Ef"
      },
      "source": [
        "### Part E\n",
        "\n",
        "Take the `number` below, find its square root, convert it to a string, and then assign it to a variable named `str_version`.\n",
        "\n",
        "You **must use the correct arithmetic operator for the square root (hint: recall that arithmetic operators include add/subtract, multiply/divide, exponents, and remainders), as well as the correct casting function for the string conversion**.\n",
        "\n",
        "**No imports allowed!**"
      ]
    },
    {
      "cell_type": "code",
      "execution_count": null,
      "metadata": {
        "collapsed": true,
        "nbgrader": {
          "grade": false,
          "grade_id": "q1e",
          "locked": false,
          "schema_version": 1,
          "solution": true
        },
        "id": "RLxoC3Ijt_Ef"
      },
      "outputs": [],
      "source": [
        "number = 3.14159265359\n",
        "\n",
        "### BEGIN SOLUTION\n",
        "\n",
        "### END SOLUTION"
      ]
    },
    {
      "cell_type": "code",
      "execution_count": null,
      "metadata": {
        "collapsed": true,
        "nbgrader": {
          "grade": true,
          "grade_id": "q1e_test",
          "locked": true,
          "points": 6,
          "schema_version": 1,
          "solution": false
        },
        "id": "EfxHfYZPt_Ef"
      },
      "outputs": [],
      "source": [
        "assert str_version == \"1.7724538509055743\""
      ]
    },
    {
      "cell_type": "markdown",
      "metadata": {
        "id": "iZK9hyu8fZyC"
      },
      "source": [
        "# Question 3 : print vs. return"
      ]
    },
    {
      "cell_type": "markdown",
      "metadata": {
        "id": "fHz-ebrXfZyC"
      },
      "source": [
        "### Part A\n",
        "Run the code cell below."
      ]
    },
    {
      "cell_type": "code",
      "execution_count": 32,
      "metadata": {
        "id": "D91s-ri0fZyC"
      },
      "outputs": [],
      "source": [
        "def f1(x):\n",
        "    print(x + 1)\n",
        "\n",
        "def f2(x):\n",
        "    return(x + 1)"
      ]
    },
    {
      "cell_type": "code",
      "execution_count": 33,
      "metadata": {
        "id": "T-6ClPS5fZyC",
        "colab": {
          "base_uri": "https://localhost:8080/"
        },
        "outputId": "7ed092df-77f0-42fb-c0e8-adabe2ec9528"
      },
      "outputs": [
        {
          "output_type": "stream",
          "name": "stdout",
          "text": [
            "4\n"
          ]
        }
      ],
      "source": [
        "f1(3)"
      ]
    },
    {
      "cell_type": "code",
      "execution_count": 34,
      "metadata": {
        "id": "nR9_NZ0WfZyD",
        "colab": {
          "base_uri": "https://localhost:8080/"
        },
        "outputId": "c29c3816-80c5-41ba-f8b9-065a67c4e7a3"
      },
      "outputs": [
        {
          "output_type": "execute_result",
          "data": {
            "text/plain": [
              "4"
            ]
          },
          "metadata": {},
          "execution_count": 34
        }
      ],
      "source": [
        "f2(3)  "
      ]
    },
    {
      "cell_type": "markdown",
      "metadata": {
        "id": "liC3cgbGfZyD"
      },
      "source": [
        " What happens when we call these functions? It looks like they behave in exactly the same way, but they really don’t. Type your answer in the cell below:"
      ]
    },
    {
      "cell_type": "markdown",
      "metadata": {
        "id": "BIlelSNvfZyD"
      },
      "source": [
        "[33] prints 4 since 3 is assigned to the function f1 that has the statement print(x + 1). \n",
        "[34] returns 4 since 3 is assigned to the function f2 where it saves the value 3 and returns that value with 1 added because of the return statement. "
      ]
    },
    {
      "cell_type": "markdown",
      "metadata": {
        "id": "iCcVWYWvfZyD"
      },
      "source": [
        "### Part B\n",
        "Now run this code cell"
      ]
    },
    {
      "cell_type": "code",
      "execution_count": 39,
      "metadata": {
        "id": "o0YArc2nfZyD",
        "colab": {
          "base_uri": "https://localhost:8080/"
        },
        "outputId": "a2e2eb5c-e38f-4359-e7ff-18997f6525c6"
      },
      "outputs": [
        {
          "output_type": "stream",
          "name": "stdout",
          "text": [
            "4\n"
          ]
        }
      ],
      "source": [
        "a = f1(3)\n",
        "b = f2(3)"
      ]
    },
    {
      "cell_type": "code",
      "execution_count": 40,
      "metadata": {
        "id": "Iy_XHc7gfZyD"
      },
      "outputs": [],
      "source": [
        "a"
      ]
    },
    {
      "cell_type": "code",
      "execution_count": 41,
      "metadata": {
        "id": "n5DOyAoTfZyE",
        "colab": {
          "base_uri": "https://localhost:8080/"
        },
        "outputId": "806d86d8-bf63-4713-92c9-d18b32b3e061"
      },
      "outputs": [
        {
          "output_type": "execute_result",
          "data": {
            "text/plain": [
              "4"
            ]
          },
          "metadata": {},
          "execution_count": 41
        }
      ],
      "source": [
        "b    "
      ]
    },
    {
      "cell_type": "markdown",
      "metadata": {
        "id": "Yw-9CaNYfZyE"
      },
      "source": [
        "What are the values of `a` and `b`? Why are they different? Type your answer in the cell below:"
      ]
    },
    {
      "cell_type": "markdown",
      "metadata": {
        "id": "QaKLsoC7fZyE"
      },
      "source": [
        "a does not have a numerical value since the function f1 only used a print statement which does not save and return the result. However, since the function f2 used a return statement, the value was saved and returned for b."
      ]
    },
    {
      "cell_type": "markdown",
      "metadata": {
        "id": "gk1PW2dOfZyE"
      },
      "source": [
        "### Part C\n",
        "Run the code cell below"
      ]
    },
    {
      "cell_type": "code",
      "execution_count": 44,
      "metadata": {
        "id": "POv2RA-ufZyE",
        "colab": {
          "base_uri": "https://localhost:8080/"
        },
        "outputId": "1201cc09-efbd-477c-a8d3-baa62e370db1"
      },
      "outputs": [
        {
          "output_type": "stream",
          "name": "stdout",
          "text": [
            "4\n",
            "None\n"
          ]
        }
      ],
      "source": [
        "print(f1(3))"
      ]
    },
    {
      "cell_type": "code",
      "execution_count": 45,
      "metadata": {
        "id": "PVtnV2B6fZyE",
        "colab": {
          "base_uri": "https://localhost:8080/"
        },
        "outputId": "76810af7-a3ce-4c1b-ec79-e21c29d3000a"
      },
      "outputs": [
        {
          "output_type": "stream",
          "name": "stdout",
          "text": [
            "4\n"
          ]
        }
      ],
      "source": [
        "print(f2(3))"
      ]
    },
    {
      "cell_type": "markdown",
      "metadata": {
        "id": "WR3I6mwTfZyE"
      },
      "source": [
        " What is the output? Why are you getting this output? Type your answer in the cell below:"
      ]
    },
    {
      "cell_type": "markdown",
      "metadata": {
        "id": "nTiP7wEdfZyE"
      },
      "source": [
        "[44] has the extra ouput of the value None since the function does not contain any return values. Vice versa, [45] contains a return value so it just returns the value 4."
      ]
    },
    {
      "cell_type": "markdown",
      "metadata": {
        "id": "zN-N19LafZyF"
      },
      "source": [
        "### Part D\n",
        "You know the drill 😁"
      ]
    },
    {
      "cell_type": "code",
      "execution_count": 49,
      "metadata": {
        "id": "sKwKwJUXfZyF",
        "colab": {
          "base_uri": "https://localhost:8080/",
          "height": 181
        },
        "outputId": "e456b36c-0643-4bb1-f1c1-f1d03da2cb28"
      },
      "outputs": [
        {
          "output_type": "stream",
          "name": "stdout",
          "text": [
            "4\n"
          ]
        },
        {
          "output_type": "error",
          "ename": "TypeError",
          "evalue": "ignored",
          "traceback": [
            "\u001b[0;31m---------------------------------------------------------------------------\u001b[0m",
            "\u001b[0;31mTypeError\u001b[0m                                 Traceback (most recent call last)",
            "\u001b[0;32m<ipython-input-49-3174c89eb240>\u001b[0m in \u001b[0;36m<module>\u001b[0;34m\u001b[0m\n\u001b[0;32m----> 1\u001b[0;31m \u001b[0mf1\u001b[0m\u001b[0;34m(\u001b[0m\u001b[0;36m3\u001b[0m\u001b[0;34m)\u001b[0m \u001b[0;34m+\u001b[0m \u001b[0;36m1\u001b[0m\u001b[0;34m\u001b[0m\u001b[0;34m\u001b[0m\u001b[0m\n\u001b[0m",
            "\u001b[0;31mTypeError\u001b[0m: unsupported operand type(s) for +: 'NoneType' and 'int'"
          ]
        }
      ],
      "source": [
        "f1(3) + 1"
      ]
    },
    {
      "cell_type": "code",
      "execution_count": 48,
      "metadata": {
        "id": "CJUTTWajfZyF",
        "colab": {
          "base_uri": "https://localhost:8080/"
        },
        "outputId": "f02973a5-e8da-4e0c-8127-18dec574445e"
      },
      "outputs": [
        {
          "output_type": "execute_result",
          "data": {
            "text/plain": [
              "5"
            ]
          },
          "metadata": {},
          "execution_count": 48
        }
      ],
      "source": [
        "f2(3) + 1"
      ]
    },
    {
      "cell_type": "markdown",
      "metadata": {
        "id": "cRRX3qzEfZyF"
      },
      "source": [
        "Study the output lines.\n",
        "    \n",
        "    1. Why are you getting this output?"
      ]
    },
    {
      "cell_type": "markdown",
      "metadata": {
        "id": "gZyMXf59fZyF"
      },
      "source": [
        "\n",
        "\n",
        "```\n",
        "# This is formatted as code\n",
        "```\n",
        "[47] includes f1 which did not save the output, therefore, python does not know what value f1(3) is. While, [48] includes f2 that had a return statement: it saved f2(3) as 4 and python was able to know that value to use it in the equation.\n"
      ]
    },
    {
      "cell_type": "markdown",
      "metadata": {
        "id": "pOJ6vDXTfZyF"
      },
      "source": [
        "    2. What do all these examples tell us about when we want to return and when we want to print? (or, put another way: When is printing useful? When is returning useful?)  "
      ]
    },
    {
      "cell_type": "markdown",
      "metadata": {
        "id": "_qLOhNhjfZyF"
      },
      "source": [
        "Returning is useful when one wants to call back a function and use the output for more functions. Printing is good for if an output will no longer be needed after it's original function or scalfholding. "
      ]
    },
    {
      "cell_type": "markdown",
      "metadata": {
        "id": "p3h5vb8rfZyF"
      },
      "source": [
        "_Note:_ You might find it more helpful to explicitly `return None` when you don’t want your function to return anything. This way, you’ll always remember that what Python is _actually_ doing is returning `None` if you don’t tell it to return."
      ]
    },
    {
      "cell_type": "markdown",
      "metadata": {
        "id": "sxUhuC8ffZyF"
      },
      "source": [
        "## Question 4: Mystery program\n",
        "\n",
        "(This is problem 6.1 in the book.) _Do not run this program._ Just look at it and determine the output. Trace what’s happening using a **stack diagram**. Find out what the final outcome is, and _show your work_.\n",
        "    "
      ]
    },
    {
      "cell_type": "markdown",
      "metadata": {
        "id": "SKUhUTM-fZyG"
      },
      "source": [
        "    def b(z):\n",
        "        prod = a(z, z)\n",
        "        print(z, prod)\n",
        "        return prod\n",
        "\n",
        "    def a(x, y):\n",
        "        x = x + 1\n",
        "        return x * y\n",
        "\n",
        "    def c(x, y, z):\n",
        "        total = x + y + z\n",
        "        square = b(total) ** 2\n",
        "        return square\n",
        "\n",
        "    x = 1\n",
        "    y = x + 1\n",
        "    print(c(x, y + 3, x + y))"
      ]
    },
    {
      "cell_type": "markdown",
      "metadata": {
        "id": "ln2igOozfZyG"
      },
      "source": [
        "You may either draw the diagram by hand or use a drawing program. If you draw the diagram by hand, take picture or scan it. \n",
        "Upload your image to your google drive and make sure it's a public folder and get the shareable link by right-clicking on the picture and choose 'Get a sharable link'. You just need the id of the image so copy that (the id is between /d/ and /view). ** There is a text cell below but it is invisible, you have to click below to make it show.** Now paste the ID in the link below where it says \"PASTE ID HERE.\""
      ]
    },
    {
      "cell_type": "markdown",
      "metadata": {
        "id": "vzN14obsfZyG"
      },
      "source": [
        "![](https://drive.google.com/uc?export=view&id=PASTE_ID_HERE)"
      ]
    },
    {
      "cell_type": "markdown",
      "metadata": {
        "id": "ewbw5j67fZyG"
      },
      "source": [
        "## Question 5: Guess my number"
      ]
    },
    {
      "cell_type": "markdown",
      "metadata": {
        "id": "0NXm1NitfZyG"
      },
      "source": [
        "Write a Guess My Number! game. In this game, your program will choose a number, and the user tries to guess that number. Here is an example of how the program will work:"
      ]
    },
    {
      "cell_type": "markdown",
      "metadata": {
        "id": "7dNlfcl2fZyG"
      },
      "source": [
        "    Ready to guess? My number is between 0 and 30.\n",
        "    Enter your guess now:\n",
        "    ? 5\n",
        "    Too low!\n",
        "    ? 20\n",
        "    Too high!\n",
        "    ? 13\n",
        "    Too low!\n",
        "    ? 17\n",
        "    Correct! You win!  "
      ]
    },
    {
      "cell_type": "markdown",
      "metadata": {
        "id": "6BlkDDrofZyG"
      },
      "source": [
        "For this game, we will need to generate a random number for the user to guess. For this, import the `random` module (review the lab notebooks for a refresher). We’ll use this module to generate a random integer using the function `randint` as follows: `random.randint(lo, hi)`, where `lo` and `hi` are integers that tell the code the range in which to generate a random integer (this range is inclusive). Let’s use 0 to 30 for now."
      ]
    },
    {
      "cell_type": "markdown",
      "metadata": {
        "id": "huA1CW9vfZyG"
      },
      "source": [
        "Write a function `guess_compare` that asks the user for a guess (remember how to get user input?), then compares that guess with the correct number and prints out `Too low!`, `Too high!`, or `Correct!`\n",
        "\n",
        "Give the user five guesses. If the user has not yet guessed the number, print out the correct answer. _Hint: Your function `guess_compare` will need to return whether the guess was correct._\n",
        "    \n",
        "Test your game."
      ]
    },
    {
      "cell_type": "code",
      "execution_count": 14,
      "metadata": {
        "id": "98W73eVlfZyH",
        "colab": {
          "base_uri": "https://localhost:8080/"
        },
        "outputId": "14b45b5d-ae1c-43f5-ad59-a82f41e1a48f"
      },
      "outputs": [
        {
          "output_type": "stream",
          "name": "stdout",
          "text": [
            "Ready to guess? My number is between 0 and 30.\n",
            "Enter your guess now:\n",
            "?3\n",
            "Too low!\n",
            "?8\n",
            "Too low!\n",
            "?17\n",
            "Too low!\n",
            "?25\n",
            "Too high!\n",
            "?22\n",
            "You win!\n"
          ]
        }
      ],
      "source": [
        "# your code here\n",
        "import random\n",
        "n = random.randrange(0,30)\n",
        "\n",
        "number_of_guesses = 0\n",
        "print(\"Ready to guess? My number is between 0 and 30.\")\n",
        "\n",
        "print(\"Enter your guess now:\")\n",
        "\n",
        "while number_of_guesses < 5:\n",
        "  guess_compare = int(input(\"?\"))\n",
        "  number_of_guesses += 1\n",
        "  if guess_compare < n:\n",
        "    print(\"Too low!\")\n",
        "  if guess_compare > n:\n",
        "    print(\"Too high!\")\n",
        "  if guess_compare == n:\n",
        "    break \n",
        "\n",
        "\n",
        "if guess_compare == n:\n",
        "  print(\"You win!\")\n",
        "else:\n",
        "  print(\"You did not guess the number. The correct answer was \"+str(n))\n",
        "  \n"
      ]
    }
  ],
  "metadata": {
    "kernelspec": {
      "display_name": "Python 3",
      "language": "python",
      "name": "python3"
    },
    "language_info": {
      "codemirror_mode": {
        "name": "ipython",
        "version": 3
      },
      "file_extension": ".py",
      "mimetype": "text/x-python",
      "name": "python",
      "nbconvert_exporter": "python",
      "pygments_lexer": "ipython3",
      "version": "3.8.5"
    },
    "colab": {
      "provenance": [],
      "include_colab_link": true
    }
  },
  "nbformat": 4,
  "nbformat_minor": 0
}